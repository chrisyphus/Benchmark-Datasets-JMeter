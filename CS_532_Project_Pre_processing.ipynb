{
  "nbformat": 4,
  "nbformat_minor": 0,
  "metadata": {
    "colab": {
      "provenance": []
    },
    "kernelspec": {
      "name": "python3",
      "display_name": "Python 3"
    },
    "language_info": {
      "name": "python"
    }
  },
  "cells": [
    {
      "cell_type": "code",
      "execution_count": null,
      "metadata": {
        "colab": {
          "base_uri": "https://localhost:8080/"
        },
        "id": "FTITgEOZiT2f",
        "outputId": "858d306a-b7ef-4e5d-ce3c-3aa3ccc86dbc"
      },
      "outputs": [
        {
          "output_type": "execute_result",
          "data": {
            "text/plain": [
              "['1',\n",
              " '2010-02-05',\n",
              " '42.31',\n",
              " '2.572',\n",
              " 'NA',\n",
              " 'NA',\n",
              " 'NA',\n",
              " 'NA',\n",
              " 'NA',\n",
              " '211.0963582',\n",
              " '8.106',\n",
              " 'FALSE']"
            ]
          },
          "metadata": {},
          "execution_count": 3
        }
      ],
      "source": [
        "#Importing the modules\n",
        "import pandas as pd\n",
        "from time import sleep\n",
        "import math\n",
        "import csv\n",
        "import os\n",
        "\n",
        "path = '/content/drive/MyDrive/features.csv'\n",
        "\n",
        "data = []\n",
        "with open(path,'r') as csv_file:\n",
        "    csvreader = csv.reader(csv_file)\n",
        "\n",
        "    for row in csvreader:\n",
        "      data.append(row)\n",
        "data[1]"
      ]
    },
    {
      "cell_type": "code",
      "source": [
        "#Handling the NA terms\n",
        "count = 0\n",
        "\n",
        "new_data = []\n",
        "for row in data:\n",
        "  if(count==0):\n",
        "    new_data.append(row)\n",
        "    count+=1\n",
        "  else:\n",
        "    temp_row = row\n",
        "    for i in range(2,len(temp_row)-1):\n",
        "      if temp_row[i] == 'NA':\n",
        "        temp_row[i] = '0.0'\n",
        "    new_data.append(temp_row)\n",
        "    count+=1\n",
        "\n",
        "new_data[1]"
      ],
      "metadata": {
        "colab": {
          "base_uri": "https://localhost:8080/"
        },
        "id": "h6lgmMK8nl26",
        "outputId": "df3f9f1a-7375-497b-a506-cb29fe3180af"
      },
      "execution_count": null,
      "outputs": [
        {
          "output_type": "execute_result",
          "data": {
            "text/plain": [
              "['1',\n",
              " '2010-02-05',\n",
              " '42.31',\n",
              " '2.572',\n",
              " '0.0',\n",
              " '0.0',\n",
              " '0.0',\n",
              " '0.0',\n",
              " '0.0',\n",
              " '211.0963582',\n",
              " '8.106',\n",
              " 'FALSE']"
            ]
          },
          "metadata": {},
          "execution_count": 4
        }
      ]
    },
    {
      "cell_type": "code",
      "source": [
        "#Writing into new csv file\n",
        "with open(\"walmart_data.csv\", 'w') as csvfile: \n",
        "    # creating a csv writer object \n",
        "    csvwriter = csv.writer(csvfile) \n",
        "        \n",
        "    # writing the data rows \n",
        "    csvwriter.writerows(new_data)"
      ],
      "metadata": {
        "id": "qsDgFWZOpQum"
      },
      "execution_count": null,
      "outputs": []
    }
  ]
}